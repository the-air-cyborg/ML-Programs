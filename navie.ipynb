{
 "cells": [
  {
   "cell_type": "code",
   "execution_count": 1,
   "id": "8d543c6c-9930-4979-805f-2b58c633e4bb",
   "metadata": {},
   "outputs": [
    {
     "name": "stdout",
     "output_type": "stream",
     "text": [
      "Accuracy: 0.6666666666666666\n",
      "Classification Report:\n",
      "               precision    recall  f1-score   support\n",
      "\n",
      "           0       1.00      1.00      1.00        10\n",
      "           1       0.47      1.00      0.64         9\n",
      "           2       1.00      0.09      0.17        11\n",
      "\n",
      "    accuracy                           0.67        30\n",
      "   macro avg       0.82      0.70      0.60        30\n",
      "weighted avg       0.84      0.67      0.59        30\n",
      "\n",
      "Confusion Matrix:\n",
      " [[10  0  0]\n",
      " [ 0  9  0]\n",
      " [ 0 10  1]]\n"
     ]
    }
   ],
   "source": [
    "# Step 1: Import Required Libraries\n",
    "import numpy as np\n",
    "import pandas as pd\n",
    "from sklearn.datasets import load_iris\n",
    "from sklearn.model_selection import train_test_split\n",
    "from sklearn.naive_bayes import BernoulliNB\n",
    "from sklearn.preprocessing import Binarizer\n",
    "from sklearn.metrics import accuracy_score, classification_report, confusion_matrix\n",
    "\n",
    "# Step 2: Load the Iris Dataset\n",
    "iris = load_iris()\n",
    "X = iris.data\n",
    "y = iris.target\n",
    "\n",
    "# Step 3: Binarize the Data (since BernoulliNB expects binary features)\n",
    "binarizer = Binarizer(threshold=np.mean(X))  # You can adjust the threshold\n",
    "X_binarized = binarizer.fit_transform(X)\n",
    "\n",
    "# Step 4: Split into Train and Test Sets\n",
    "X_train, X_test, y_train, y_test = train_test_split(X_binarized, y, test_size=0.2, random_state=42)\n",
    "\n",
    "# Step 5: Train the Bernoulli Naive Bayes Classifier\n",
    "bnb = BernoulliNB()\n",
    "bnb.fit(X_train, y_train)\n",
    "\n",
    "# Step 6: Predict\n",
    "y_pred = bnb.predict(X_test)\n",
    "\n",
    "# Step 7: Evaluate\n",
    "print(\"Accuracy:\", accuracy_score(y_test, y_pred))\n",
    "print(\"Classification Report:\\n\", classification_report(y_test, y_pred))\n",
    "print(\"Confusion Matrix:\\n\", confusion_matrix(y_test, y_pred))\n"
   ]
  },
  {
   "cell_type": "code",
   "execution_count": null,
   "id": "7283daee-1088-45c6-b247-a4ddef99feed",
   "metadata": {},
   "outputs": [],
   "source": []
  }
 ],
 "metadata": {
  "kernelspec": {
   "display_name": "Python 3 (ipykernel)",
   "language": "python",
   "name": "python3"
  },
  "language_info": {
   "codemirror_mode": {
    "name": "ipython",
    "version": 3
   },
   "file_extension": ".py",
   "mimetype": "text/x-python",
   "name": "python",
   "nbconvert_exporter": "python",
   "pygments_lexer": "ipython3",
   "version": "3.13.0"
  }
 },
 "nbformat": 4,
 "nbformat_minor": 5
}
