{
 "cells": [
  {
   "cell_type": "code",
   "execution_count": null,
   "id": "27f10e89-8688-4951-a52f-31aae0832893",
   "metadata": {},
   "outputs": [],
   "source": []
  }
 ],
 "metadata": {
  "kernelspec": {
   "display_name": "",
   "name": ""
  },
  "language_info": {
   "name": ""
  }
 },
 "nbformat": 4,
 "nbformat_minor": 5
}
