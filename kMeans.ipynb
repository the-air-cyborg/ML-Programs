{
 "cells": [
  {
   "cell_type": "code",
   "execution_count": null,
   "id": "6cf94dc4-9f0f-4a92-91a8-97a53134e472",
   "metadata": {},
   "outputs": [],
   "source": []
  }
 ],
 "metadata": {
  "kernelspec": {
   "display_name": "",
   "name": ""
  },
  "language_info": {
   "name": ""
  }
 },
 "nbformat": 4,
 "nbformat_minor": 5
}
