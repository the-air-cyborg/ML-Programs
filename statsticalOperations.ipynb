{
 "cells": [
  {
   "cell_type": "code",
   "execution_count": 27,
   "id": "2b0b67af-6c20-4655-abc7-149225d1c65c",
   "metadata": {},
   "outputs": [],
   "source": [
    "import pandas as pd\n",
    "import statistics as stats\n",
    "import numpy as np"
   ]
  },
  {
   "cell_type": "code",
   "execution_count": 28,
   "id": "a2eb13f3-597c-4d09-b516-8239a2e8eb99",
   "metadata": {},
   "outputs": [],
   "source": [
    "import matplotlib as plt"
   ]
  },
  {
   "cell_type": "code",
   "execution_count": 29,
   "id": "df4050fb-9e25-486e-b7aa-236b2a612ead",
   "metadata": {},
   "outputs": [],
   "source": [
    "data=pd.DataFrame({\n",
    "    \"salary\":[324234,546456,23434554,768645,32434545675,657678768]\n",
    "})"
   ]
  },
  {
   "cell_type": "code",
   "execution_count": 30,
   "id": "2cc0a2d6-782e-427b-8dbb-defab0e124bc",
   "metadata": {},
   "outputs": [
    {
     "data": {
      "text/html": [
       "<div>\n",
       "<style scoped>\n",
       "    .dataframe tbody tr th:only-of-type {\n",
       "        vertical-align: middle;\n",
       "    }\n",
       "\n",
       "    .dataframe tbody tr th {\n",
       "        vertical-align: top;\n",
       "    }\n",
       "\n",
       "    .dataframe thead th {\n",
       "        text-align: right;\n",
       "    }\n",
       "</style>\n",
       "<table border=\"1\" class=\"dataframe\">\n",
       "  <thead>\n",
       "    <tr style=\"text-align: right;\">\n",
       "      <th></th>\n",
       "      <th>salary</th>\n",
       "    </tr>\n",
       "  </thead>\n",
       "  <tbody>\n",
       "    <tr>\n",
       "      <th>0</th>\n",
       "      <td>324234</td>\n",
       "    </tr>\n",
       "    <tr>\n",
       "      <th>1</th>\n",
       "      <td>546456</td>\n",
       "    </tr>\n",
       "    <tr>\n",
       "      <th>2</th>\n",
       "      <td>23434554</td>\n",
       "    </tr>\n",
       "    <tr>\n",
       "      <th>3</th>\n",
       "      <td>768645</td>\n",
       "    </tr>\n",
       "    <tr>\n",
       "      <th>4</th>\n",
       "      <td>32434545675</td>\n",
       "    </tr>\n",
       "    <tr>\n",
       "      <th>5</th>\n",
       "      <td>657678768</td>\n",
       "    </tr>\n",
       "  </tbody>\n",
       "</table>\n",
       "</div>"
      ],
      "text/plain": [
       "        salary\n",
       "0       324234\n",
       "1       546456\n",
       "2     23434554\n",
       "3       768645\n",
       "4  32434545675\n",
       "5    657678768"
      ]
     },
     "execution_count": 30,
     "metadata": {},
     "output_type": "execute_result"
    }
   ],
   "source": [
    "data"
   ]
  },
  {
   "cell_type": "code",
   "execution_count": 31,
   "id": "99fb1baa-6b2a-45c7-9951-d0d25fb17785",
   "metadata": {},
   "outputs": [],
   "source": [
    "df=data.to_csv('data.csv')"
   ]
  },
  {
   "cell_type": "code",
   "execution_count": 32,
   "id": "695d9d56-60ad-445a-9ca0-9b3e38f65f63",
   "metadata": {},
   "outputs": [],
   "source": [
    "df"
   ]
  },
  {
   "cell_type": "code",
   "execution_count": 33,
   "id": "17508235-43f2-4f81-a671-caab723485db",
   "metadata": {},
   "outputs": [],
   "source": [
    "df=pd.read_csv('data.csv')"
   ]
  },
  {
   "cell_type": "code",
   "execution_count": null,
   "id": "5139e3ec-8657-4c97-b414-6473b89a92d3",
   "metadata": {},
   "outputs": [],
   "source": [
    "df"
   ]
  },
  {
   "cell_type": "code",
   "execution_count": 35,
   "id": "2a551eea-da5a-4992-9181-a7854f3f05f4",
   "metadata": {},
   "outputs": [],
   "source": [
    "mean1=df.mean()"
   ]
  },
  {
   "cell_type": "code",
   "execution_count": 36,
   "id": "ecba03cc-c972-4ad1-8196-d7d3090fae97",
   "metadata": {},
   "outputs": [
    {
     "data": {
      "text/plain": [
       "Unnamed: 0    2.500000e+00\n",
       "salary        5.519550e+09\n",
       "dtype: float64"
      ]
     },
     "execution_count": 36,
     "metadata": {},
     "output_type": "execute_result"
    }
   ],
   "source": [
    "mean1"
   ]
  },
  {
   "cell_type": "code",
   "execution_count": 37,
   "id": "7cac4675-581b-4555-99f5-0a80dd468f33",
   "metadata": {},
   "outputs": [],
   "source": [
    "mode1=df.mode()"
   ]
  },
  {
   "cell_type": "code",
   "execution_count": 38,
   "id": "c623a4c4-79a1-4751-8620-594962390d01",
   "metadata": {},
   "outputs": [
    {
     "data": {
      "text/html": [
       "<div>\n",
       "<style scoped>\n",
       "    .dataframe tbody tr th:only-of-type {\n",
       "        vertical-align: middle;\n",
       "    }\n",
       "\n",
       "    .dataframe tbody tr th {\n",
       "        vertical-align: top;\n",
       "    }\n",
       "\n",
       "    .dataframe thead th {\n",
       "        text-align: right;\n",
       "    }\n",
       "</style>\n",
       "<table border=\"1\" class=\"dataframe\">\n",
       "  <thead>\n",
       "    <tr style=\"text-align: right;\">\n",
       "      <th></th>\n",
       "      <th>Unnamed: 0</th>\n",
       "      <th>salary</th>\n",
       "    </tr>\n",
       "  </thead>\n",
       "  <tbody>\n",
       "    <tr>\n",
       "      <th>0</th>\n",
       "      <td>0</td>\n",
       "      <td>324234</td>\n",
       "    </tr>\n",
       "    <tr>\n",
       "      <th>1</th>\n",
       "      <td>1</td>\n",
       "      <td>546456</td>\n",
       "    </tr>\n",
       "    <tr>\n",
       "      <th>2</th>\n",
       "      <td>2</td>\n",
       "      <td>768645</td>\n",
       "    </tr>\n",
       "    <tr>\n",
       "      <th>3</th>\n",
       "      <td>3</td>\n",
       "      <td>23434554</td>\n",
       "    </tr>\n",
       "    <tr>\n",
       "      <th>4</th>\n",
       "      <td>4</td>\n",
       "      <td>657678768</td>\n",
       "    </tr>\n",
       "    <tr>\n",
       "      <th>5</th>\n",
       "      <td>5</td>\n",
       "      <td>32434545675</td>\n",
       "    </tr>\n",
       "  </tbody>\n",
       "</table>\n",
       "</div>"
      ],
      "text/plain": [
       "   Unnamed: 0       salary\n",
       "0           0       324234\n",
       "1           1       546456\n",
       "2           2       768645\n",
       "3           3     23434554\n",
       "4           4    657678768\n",
       "5           5  32434545675"
      ]
     },
     "execution_count": 38,
     "metadata": {},
     "output_type": "execute_result"
    }
   ],
   "source": [
    "mode1"
   ]
  },
  {
   "cell_type": "code",
   "execution_count": 39,
   "id": "1e0e90ab-f58a-4909-9eb9-b7cb784c675d",
   "metadata": {},
   "outputs": [],
   "source": [
    "median1=df.median()"
   ]
  },
  {
   "cell_type": "code",
   "execution_count": 40,
   "id": "b95e679d-4db6-4e02-9f9a-2dad54a78c97",
   "metadata": {},
   "outputs": [
    {
     "data": {
      "text/plain": [
       "Unnamed: 0           2.5\n",
       "salary        12101599.5\n",
       "dtype: float64"
      ]
     },
     "execution_count": 40,
     "metadata": {},
     "output_type": "execute_result"
    }
   ],
   "source": [
    "median1"
   ]
  },
  {
   "cell_type": "code",
   "execution_count": 41,
   "id": "a6105f09-7880-48cb-bc11-596b9dfcc4f2",
   "metadata": {},
   "outputs": [],
   "source": [
    "mean2=stats.mean(data1)"
   ]
  },
  {
   "cell_type": "code",
   "execution_count": 42,
   "id": "20f3f2bc-addf-45b3-a26e-96c3c2b3c450",
   "metadata": {},
   "outputs": [],
   "source": [
    "data1=[43,5464,2345456,4656,23435]"
   ]
  },
  {
   "cell_type": "code",
   "execution_count": 43,
   "id": "1633deff-be43-4bef-a038-bdd29f1e5432",
   "metadata": {},
   "outputs": [
    {
     "data": {
      "text/plain": [
       "[43, 5464, 2345456, 4656, 23435]"
      ]
     },
     "execution_count": 43,
     "metadata": {},
     "output_type": "execute_result"
    }
   ],
   "source": [
    "data1"
   ]
  },
  {
   "cell_type": "code",
   "execution_count": 44,
   "id": "7a5af94d-1644-4894-a6b4-d52c7c3e6688",
   "metadata": {},
   "outputs": [
    {
     "data": {
      "text/plain": [
       "475810.8"
      ]
     },
     "execution_count": 44,
     "metadata": {},
     "output_type": "execute_result"
    }
   ],
   "source": [
    "mean2"
   ]
  },
  {
   "cell_type": "code",
   "execution_count": 45,
   "id": "c1ba324b-4d8a-4e41-a546-daa3fbee137e",
   "metadata": {},
   "outputs": [],
   "source": [
    "mode2=stats.mode(data1)\n"
   ]
  },
  {
   "cell_type": "code",
   "execution_count": 46,
   "id": "83e55bb3-b7c7-4c5c-b20d-7051a9ed2956",
   "metadata": {},
   "outputs": [
    {
     "data": {
      "text/html": [
       "<div>\n",
       "<style scoped>\n",
       "    .dataframe tbody tr th:only-of-type {\n",
       "        vertical-align: middle;\n",
       "    }\n",
       "\n",
       "    .dataframe tbody tr th {\n",
       "        vertical-align: top;\n",
       "    }\n",
       "\n",
       "    .dataframe thead th {\n",
       "        text-align: right;\n",
       "    }\n",
       "</style>\n",
       "<table border=\"1\" class=\"dataframe\">\n",
       "  <thead>\n",
       "    <tr style=\"text-align: right;\">\n",
       "      <th></th>\n",
       "      <th>Unnamed: 0</th>\n",
       "      <th>salary</th>\n",
       "    </tr>\n",
       "  </thead>\n",
       "  <tbody>\n",
       "    <tr>\n",
       "      <th>0</th>\n",
       "      <td>0</td>\n",
       "      <td>324234</td>\n",
       "    </tr>\n",
       "    <tr>\n",
       "      <th>1</th>\n",
       "      <td>1</td>\n",
       "      <td>546456</td>\n",
       "    </tr>\n",
       "    <tr>\n",
       "      <th>2</th>\n",
       "      <td>2</td>\n",
       "      <td>768645</td>\n",
       "    </tr>\n",
       "    <tr>\n",
       "      <th>3</th>\n",
       "      <td>3</td>\n",
       "      <td>23434554</td>\n",
       "    </tr>\n",
       "    <tr>\n",
       "      <th>4</th>\n",
       "      <td>4</td>\n",
       "      <td>657678768</td>\n",
       "    </tr>\n",
       "    <tr>\n",
       "      <th>5</th>\n",
       "      <td>5</td>\n",
       "      <td>32434545675</td>\n",
       "    </tr>\n",
       "  </tbody>\n",
       "</table>\n",
       "</div>"
      ],
      "text/plain": [
       "   Unnamed: 0       salary\n",
       "0           0       324234\n",
       "1           1       546456\n",
       "2           2       768645\n",
       "3           3     23434554\n",
       "4           4    657678768\n",
       "5           5  32434545675"
      ]
     },
     "execution_count": 46,
     "metadata": {},
     "output_type": "execute_result"
    }
   ],
   "source": [
    "mode1"
   ]
  },
  {
   "cell_type": "code",
   "execution_count": 47,
   "id": "c619453f-ac95-4bcf-ae7a-262783b365cf",
   "metadata": {},
   "outputs": [],
   "source": [
    "median2=stats.median(data1)"
   ]
  },
  {
   "cell_type": "code",
   "execution_count": 48,
   "id": "6293c942-7a64-4a56-aa68-8bf18db1442d",
   "metadata": {},
   "outputs": [
    {
     "data": {
      "text/plain": [
       "5464"
      ]
     },
     "execution_count": 48,
     "metadata": {},
     "output_type": "execute_result"
    }
   ],
   "source": [
    "median2"
   ]
  },
  {
   "cell_type": "code",
   "execution_count": 49,
   "id": "3c180954-c6a3-45bc-9360-0abf84b094b5",
   "metadata": {},
   "outputs": [],
   "source": [
    "std=stats.stdev(data1)"
   ]
  },
  {
   "cell_type": "code",
   "execution_count": 50,
   "id": "8480e9c0-64b8-49c6-9349-c7d0e1772d3b",
   "metadata": {},
   "outputs": [
    {
     "data": {
      "text/plain": [
       "1045201.5350709643"
      ]
     },
     "execution_count": 50,
     "metadata": {},
     "output_type": "execute_result"
    }
   ],
   "source": [
    "std"
   ]
  },
  {
   "cell_type": "code",
   "execution_count": 54,
   "id": "3ef4127a-b7e9-4028-837c-0386596aabfb",
   "metadata": {},
   "outputs": [],
   "source": [
    "mean3=np.mean(data1)"
   ]
  },
  {
   "cell_type": "markdown",
   "id": "2fccf54e-6fea-4c3e-b7d7-476c799ee054",
   "metadata": {},
   "source": [
    "### "
   ]
  },
  {
   "cell_type": "code",
   "execution_count": 55,
   "id": "98c72ca7-c1bf-4223-aa8c-633da13ed91a",
   "metadata": {},
   "outputs": [
    {
     "data": {
      "text/plain": [
       "np.float64(475810.8)"
      ]
     },
     "execution_count": 55,
     "metadata": {},
     "output_type": "execute_result"
    }
   ],
   "source": [
    "mean3"
   ]
  },
  {
   "cell_type": "markdown",
   "id": "67610c19-5688-4245-9c58-7b6e9a66386b",
   "metadata": {},
   "source": [
    "mode3=np.mode(data1)"
   ]
  },
  {
   "cell_type": "markdown",
   "id": "cc16439f-bad7-45d7-954c-ec809bbf9be7",
   "metadata": {},
   "source": []
  },
  {
   "cell_type": "code",
   "execution_count": null,
   "id": "b0c3796e-a0bc-4921-ac41-e22534203679",
   "metadata": {},
   "outputs": [],
   "source": []
  },
  {
   "cell_type": "code",
   "execution_count": 59,
   "id": "8bda1460-4668-4d71-967e-fadcb7161a92",
   "metadata": {},
   "outputs": [],
   "source": [
    "median3=np.median(data1)"
   ]
  },
  {
   "cell_type": "code",
   "execution_count": 61,
   "id": "59a940b4-1914-470a-adb3-da227c581956",
   "metadata": {},
   "outputs": [
    {
     "data": {
      "text/plain": [
       "np.float64(5464.0)"
      ]
     },
     "execution_count": 61,
     "metadata": {},
     "output_type": "execute_result"
    }
   ],
   "source": [
    "median3"
   ]
  },
  {
   "cell_type": "code",
   "execution_count": 62,
   "id": "9706529d-6cba-416d-9bbf-08f57a87de60",
   "metadata": {},
   "outputs": [],
   "source": [
    "std3=np.std(data1)"
   ]
  },
  {
   "cell_type": "code",
   "execution_count": 63,
   "id": "b4d8585e-5a64-44a9-bc22-5afeca8af9d5",
   "metadata": {},
   "outputs": [
    {
     "data": {
      "text/plain": [
       "np.float64(934856.6730423226)"
      ]
     },
     "execution_count": 63,
     "metadata": {},
     "output_type": "execute_result"
    }
   ],
   "source": [
    "std3"
   ]
  },
  {
   "cell_type": "code",
   "execution_count": null,
   "id": "5920e72f-dbf9-49fc-96fd-5a247c077262",
   "metadata": {},
   "outputs": [],
   "source": []
  }
 ],
 "metadata": {
  "kernelspec": {
   "display_name": "Python 3 (ipykernel)",
   "language": "python",
   "name": "python3"
  },
  "language_info": {
   "codemirror_mode": {
    "name": "ipython",
    "version": 3
   },
   "file_extension": ".py",
   "mimetype": "text/x-python",
   "name": "python",
   "nbconvert_exporter": "python",
   "pygments_lexer": "ipython3",
   "version": "3.13.0"
  }
 },
 "nbformat": 4,
 "nbformat_minor": 5
}
